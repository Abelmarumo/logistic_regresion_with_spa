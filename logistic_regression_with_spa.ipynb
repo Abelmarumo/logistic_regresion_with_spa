{
 "cells": [
  {
   "cell_type": "code",
   "execution_count": 117,
   "metadata": {},
   "outputs": [],
   "source": [
    "import numpy as np\n",
    "import pandas as pd\n",
    "import matplotlib.pyplot as plt"
   ]
  },
  {
   "cell_type": "code",
   "execution_count": 118,
   "metadata": {},
   "outputs": [
    {
     "name": "stdout",
     "output_type": "stream",
     "text": [
      "[[7. 0. 0. ... 0. 0. 0.]\n",
      " [2. 0. 0. ... 0. 0. 0.]\n",
      " [1. 0. 0. ... 0. 0. 0.]\n",
      " ...\n",
      " [4. 0. 0. ... 0. 0. 0.]\n",
      " [5. 0. 0. ... 0. 0. 0.]\n",
      " [6. 0. 0. ... 0. 0. 0.]]\n"
     ]
    }
   ],
   "source": [
    "## fetching the dataset\n",
    "data_train = np.loadtxt('mnist_train.csv',delimiter=',')\n",
    "data_test = np.loadtxt('mnist_test.csv',delimiter=',')\n",
    "print(data_test)"
   ]
  },
  {
   "cell_type": "code",
   "execution_count": 119,
   "metadata": {},
   "outputs": [],
   "source": [
    "## preparing testing and training data\n",
    "data_train = data_train[np.logical_or(data_train[:,0]==0,data_train[:,0]==1)]\n",
    "y_train = data_train[:,0][:,np.newaxis].astype(np.int)\n",
    "x_train = data_train[:,1:]/255.0\n",
    "\n",
    "data_test = data_test[np.logical_or(data_test[:,0]==0,data_test[:,0]==1)]\n",
    "y_test = data_test[:,0][:,np.newaxis].astype(np.int)\n",
    "x_test = data_test[:,1:]/255.0\n"
   ]
  },
  {
   "cell_type": "code",
   "execution_count": 120,
   "metadata": {},
   "outputs": [],
   "source": [
    "## augmentation\n",
    "def augment_feature(x):\n",
    "    x = np.hstack((np.ones((x.shape[0],1)),x))\n",
    "    return x\n",
    "x_train = augment_feature(x_train)\n",
    "x_test = augment_feature(x_test)"
   ]
  },
  {
   "cell_type": "code",
   "execution_count": 121,
   "metadata": {},
   "outputs": [],
   "source": [
    "## defining Logistic regession\n",
    "def logistic(x,theta):\n",
    "    y = 1.0/(1.0+np.exp(-np.dot(x,theta)))\n",
    "    return y\n",
    "##predictions \n",
    "def prediction(x,theta,threshold,h):\n",
    "    y = h(x,theta)\n",
    "    y = (y>threshold)*1\n",
    "    return y"
   ]
  },
  {
   "cell_type": "code",
   "execution_count": 122,
   "metadata": {},
   "outputs": [],
   "source": [
    "## gradient descent\n",
    "def gradient_descent(x,y,theta,alpha,h,max_iteration):\n",
    "    t=1\n",
    "    while t<max_iteration:\n",
    "        y_predict =h(x,theta)\n",
    "        error = y_predict-y\n",
    "        error_x = error*x\n",
    "        theta = theta - alpha*np.mean(error_x,axis=0)[:,np.newaxis]\n",
    "        t = t+1\n",
    "    return theta\n"
   ]
  },
  {
   "cell_type": "code",
   "execution_count": 123,
   "metadata": {},
   "outputs": [],
   "source": [
    "initial_theta = np.zeros((x_train.shape[1],1))\n",
    "opti_theta = gradient_descent(x=x_train,y=y_train,theta=initial_theta,alpha=0.001,h=logistic,max_iteration=1000)"
   ]
  },
  {
   "cell_type": "code",
   "execution_count": 124,
   "metadata": {},
   "outputs": [
    {
     "name": "stdout",
     "output_type": "stream",
     "text": [
      "The actual value is 1 and the pridicted value is 1\n"
     ]
    }
   ],
   "source": [
    "predictions= prediction(x=x_test,theta=opti_theta,h=logistic,threshold=0.5)\n",
    "print('The actual value is {} and the pridicted value is {}'.format(y_test[5,0],predictions[5,0]))"
   ]
  },
  {
   "cell_type": "code",
   "execution_count": 125,
   "metadata": {},
   "outputs": [],
   "source": [
    "from sklearn.metrics import classification_report"
   ]
  },
  {
   "cell_type": "code",
   "execution_count": 126,
   "metadata": {},
   "outputs": [
    {
     "name": "stdout",
     "output_type": "stream",
     "text": [
      "              precision    recall  f1-score   support\n",
      "\n",
      "           0       1.00      1.00      1.00       980\n",
      "           1       1.00      1.00      1.00      1135\n",
      "\n",
      "    accuracy                           1.00      2115\n",
      "   macro avg       1.00      1.00      1.00      2115\n",
      "weighted avg       1.00      1.00      1.00      2115\n",
      "\n"
     ]
    }
   ],
   "source": [
    "print(classification_report(y_test[:,0],predictions[:,0]))"
   ]
  },
  {
   "cell_type": "code",
   "execution_count": 116,
   "metadata": {},
   "outputs": [
    {
     "name": "stdout",
     "output_type": "stream",
     "text": [
      "empiracal accuracy is 99.81087470449172\n"
     ]
    }
   ],
   "source": [
    "print(\"empiracal accuracy is {}\".format(np.mean(y_test==predictions)*100))"
   ]
  },
  {
   "cell_type": "code",
   "execution_count": 114,
   "metadata": {},
   "outputs": [],
   "source": [
    "## converting vector to imante\n",
    "def vec_to_image(vector,h=28,w=28):\n",
    "    im = np.reshape(vector,(h,w))\n",
    "    return im\n",
    "\n",
    "image = vec_to_image(x_test[50,1:])"
   ]
  },
  {
   "cell_type": "code",
   "execution_count": 115,
   "metadata": {},
   "outputs": [
    {
     "data": {
      "image/png": "[encoded data removed]",
      "text/plain": [
       "<Figure size 432x288 with 1 Axes>"
      ]
     },
     "metadata": {
      "needs_background": "light"
     },
     "output_type": "display_data"
    }
   ],
   "source": [
    "plt.imshow(image,cmap='gray')\n",
    "plt.title('The actual value is {} and the pridicted value is {}'.format(y_test[50,0],predictions[50,0]));"
   ]
  },
  {
   "cell_type": "code",
   "execution_count": null,
   "metadata": {},
   "outputs": [],
   "source": []
  }
 ],
 "metadata": {
  "kernelspec": {
   "display_name": "Python 3",
   "language": "python",
   "name": "python3"
  },
  "language_info": {
   "codemirror_mode": {
    "name": "ipython",
    "version": 3
   },
   "file_extension": ".py",
   "mimetype": "text/x-python",
   "name": "python",
   "nbconvert_exporter": "python",
   "pygments_lexer": "ipython3",
   "version": "3.7.4"
  }
 },
 "nbformat": 4,
 "nbformat_minor": 2
}
